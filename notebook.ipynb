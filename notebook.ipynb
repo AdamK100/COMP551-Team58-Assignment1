{
 "cells": [
  {
   "cell_type": "code",
   "execution_count": 221,
   "metadata": {},
   "outputs": [],
   "source": [
    "import numpy as np\n",
    "import matplotlib.pyplot as plt\n",
    "import os\n",
    "from math import sqrt\n",
    "from typing import Callable"
   ]
  },
  {
   "cell_type": "markdown",
   "metadata": {},
   "source": [
    "### Input parsing and cleaning\n",
    "\n",
    "The first task of the assignment is to parse the input, and get rid of the data points with missing or malformed features.\n",
    "\n",
    "In our case, we decided to parse the CSV files manually.\n",
    "\n",
    "We start by implementing a function which, given a line of data, tells us whether the line is clean or malformed."
   ]
  },
  {
   "cell_type": "code",
   "execution_count": 222,
   "metadata": {},
   "outputs": [],
   "source": [
    "def is_clean(line: str) -> bool:\n",
    "    for data_entry in line.split(\",\"):\n",
    "        if data_entry == \"?\":\n",
    "            return False\n",
    "    \n",
    "    return True"
   ]
  },
  {
   "cell_type": "markdown",
   "metadata": {},
   "source": [
    "Next, we proceed to read the file line-by-line, check for cleanliness, and finally parse the resulting input list to a numpy array of floats."
   ]
  },
  {
   "cell_type": "code",
   "execution_count": 223,
   "metadata": {},
   "outputs": [],
   "source": [
    "# Import hepatitis data\n",
    "__hepatitis_data = open(os.path.abspath('') + \"/data/hepatitis.data\")\n",
    "\n",
    "hepatitis_clean_data: list[str] = []\n",
    "\n",
    "for __line in __hepatitis_data.readlines():\n",
    "    __line = __line.strip('\\n')\n",
    "    if(is_clean(__line)):\n",
    "        hepatitis_clean_data.append(__line.split(','))\n",
    "\n",
    "hepatitis_clean_data: np.ndarray = np.array(hepatitis_clean_data, float)\n",
    "\n",
    "__hepatitis_data.close()\n",
    "\n",
    "\n",
    "\n",
    "# Import diabetes data\n",
    "__diabetes_data = open(os.path.abspath('') + \"/data/messidor_features.arff\")\n",
    "\n",
    "diabetes_clean_data: list[str] = []\n",
    "\n",
    "__read: bool = False\n",
    "for __line in __diabetes_data.readlines():\n",
    "    __line = __line.strip('\\n')\n",
    "    if __read and is_clean(__line):\n",
    "        diabetes_clean_data.append(__line.split(','))\n",
    "\n",
    "    else:\n",
    "        __read = __line == \"@data\"\n",
    "\n",
    "diabetes_clean_data: np.ndarray = np.array(diabetes_clean_data, float)\n",
    "\n",
    "__diabetes_data.close()"
   ]
  },
  {
   "cell_type": "markdown",
   "metadata": {},
   "source": [
    "Now that we have our inputs, we proceed to shuffle the data and divide into training, test, and validation sets.\n",
    "\n",
    "We choose the following split: 50% training, 25% testing, 25% validation."
   ]
  },
  {
   "cell_type": "code",
   "execution_count": 224,
   "metadata": {},
   "outputs": [],
   "source": [
    "hepatitis_training = []\n",
    "hepatitis_testing = []\n",
    "hepatitis_validation = []\n",
    "\n",
    "diabetes_training = []\n",
    "diabetes_testing = []\n",
    "diabetes_validation = []\n",
    "\n",
    "hepatitis_size = hepatitis_clean_data.shape[0]\n",
    "hepatitis_size_50 = int(hepatitis_size / 2)\n",
    "hepatitis_size_75 = int(hepatitis_size * 3 / 4)\n",
    "\n",
    "diabetes_size = diabetes_clean_data.shape[0]\n",
    "diabetes_size_50 = int(diabetes_size / 2)\n",
    "diabetes_size_75 = int(diabetes_size * 3 / 4)\n",
    "\n",
    "def shuffle():\n",
    "    global hepatitis_training\n",
    "    global hepatitis_testing\n",
    "    global hepatitis_validation\n",
    "    global diabetes_training\n",
    "    global diabetes_testing\n",
    "    global diabetes_validation\n",
    "\n",
    "    # Shuffle and split hepatitis data\n",
    "    np.random.shuffle(hepatitis_clean_data)\n",
    "    hepatitis_training = hepatitis_clean_data[:hepatitis_size_50]\n",
    "    hepatitis_testing = hepatitis_clean_data[(hepatitis_size_50 + 1):hepatitis_size_75:1]\n",
    "    hepatitis_validation = hepatitis_clean_data[(hepatitis_size_75 + 1):]\n",
    "\n",
    "\n",
    "    # Shuffle and split diabetes data\n",
    "    np.random.shuffle(diabetes_clean_data)\n",
    "    diabetes_training = diabetes_clean_data[:diabetes_size_50]\n",
    "    diabetes_testing = diabetes_clean_data[(diabetes_size_50 + 1):diabetes_size_75:1]\n",
    "    diabetes_validation = diabetes_clean_data[(diabetes_size_75 + 1):]\n",
    "\n",
    "shuffle()"
   ]
  },
  {
   "cell_type": "markdown",
   "metadata": {},
   "source": [
    "### Models implementation\n",
    "\n",
    "Next up, we want to build both of our models (KNN and DT) as classes.\n",
    "\n",
    "For our experiment we want our models to have at least a fitting and predicting functionality.\n",
    "Therefore, we start by defining a base Model class."
   ]
  },
  {
   "cell_type": "code",
   "execution_count": 225,
   "metadata": {},
   "outputs": [],
   "source": [
    "class Model:\n",
    "    \n",
    "    def __init__(self, hyperparameter: int):\n",
    "        pass\n",
    "    \n",
    "    def fit(self, training_data, true_labels) -> \"Model\":\n",
    "        pass\n",
    "    \n",
    "    def predict(self, input) -> list:\n",
    "        pass"
   ]
  },
  {
   "cell_type": "markdown",
   "metadata": {},
   "source": [
    "#### Helper methods\n",
    "\n",
    "However, before we can proceed to implement these, we need to implement some helper functions which will be of use in the classes."
   ]
  },
  {
   "cell_type": "code",
   "execution_count": 226,
   "metadata": {},
   "outputs": [],
   "source": [
    "def euclidean_distance(x1: list[float], x2: list[float]) -> float:\n",
    "    return np.sqrt(np.sum((np.array(x2) - np.array(x1)) ** 2))\n",
    "\n",
    "\n",
    "def manhattan_distance(x1: list[float], x2: list[float]) -> float:\n",
    "    return np.sum(np.absolute(np.array(x1) - np.array(x2)))\n",
    "\n",
    "\n",
    "def most_common_label(l: list):\n",
    "    return np.bincount(np.array(l, int)).argmax()\n",
    "\n",
    "\n",
    "def evaluate_acc(true_labels: list, target_labels: list) -> float:\n",
    "    return np.sum(true_labels == target_labels) / len(true_labels)\n",
    "\n",
    "\n",
    "def gini_index(labels):\n",
    "    class_probs = np.bincount(labels.astype(int)) / len(labels)\n",
    "    return 1 - np.sum(class_probs ** 2)\n",
    "\n",
    "\n",
    "def cosine_similarity(vector1,vector2):\n",
    "    return np.sum(vector1 * vector2)/(sqrt(np.sum(vector1 ** 2)) * sqrt(np.sum(vector2 ** 2)))\n",
    "\n",
    "\n",
    "def remove_irrelevant_features(data : np.ndarray, true_labels : np.ndarray, nb_features : int) -> np.ndarray:\n",
    "    # similarities = np.apply_along_axis(lambda d: cosine_similarity(d, true_labels), 0, data)\n",
    "    similarities = []\n",
    "    for i in range(data.shape[1]):\n",
    "        similarities.append(cosine_similarity(data[:,i],true_labels))\n",
    "    min_similarities = np.argpartition(similarities,nb_features)\n",
    "    return np.delete(data, min_similarities[:nb_features], 1)"
   ]
  },
  {
   "cell_type": "markdown",
   "metadata": {},
   "source": [
    "#### KNN Graph implementation\n",
    "\n",
    "We now proceed to implement our KNN Graph class which is a subclass of Model."
   ]
  },
  {
   "cell_type": "code",
   "execution_count": 227,
   "metadata": {},
   "outputs": [],
   "source": [
    "class KNN_Graph(Model):\n",
    "\n",
    "    k: int\n",
    "    dist_fn: Callable[[list[float], list[float]], float]\n",
    "    training_data: np.ndarray\n",
    "    true_labels: list[str]\n",
    "\n",
    "    def __init__(self, k: int = 1, dist_fn: Callable[[list[float], list[float]], float] = euclidean_distance):\n",
    "        self.distances_valid = False\n",
    "        self.k = k\n",
    "        self.dist_fn = dist_fn\n",
    "\n",
    "\n",
    "    def fit(self, training_data: np.ndarray, true_labels: list[str]) -> \"KNN_Graph\":\n",
    "        self.distances_valid = False\n",
    "        self.training_data = training_data\n",
    "        self.true_labels = true_labels\n",
    "        return self\n",
    "    \n",
    "\n",
    "    def compute_distances_single_point(self, test_data_point):\n",
    "        distances = np.apply_along_axis(lambda tdp: [self.dist_fn(test_data_point, tdp[1:]), tdp[0]], 1, self.training_data)\n",
    "        distances = distances[distances[:, 0].argsort()] # Sort based row by first column\n",
    "        return distances\n",
    "\n",
    "\n",
    "    def compute_distances(self, test_data) -> np.ndarray:\n",
    "        return np.apply_along_axis(self.compute_distances_single_point, 1, test_data)\n",
    "    \n",
    "\n",
    "    def predict(self, test_data: np.ndarray) -> list:\n",
    "        distances = self.compute_distances(test_data)\n",
    "        return [most_common_label(d[:self.k, 1]) for d in distances]\n",
    "    \n",
    "\n",
    "    def k_trial(self, validation_data, validation_labels, max_k: int) -> np.ndarray:\n",
    "        distances = self.compute_distances(validation_data)\n",
    "\n",
    "        accuracies = []\n",
    "        for k in range(1, max_k):\n",
    "            self.k = k\n",
    "            predictions = [most_common_label(d[:k, 1]) for d in distances]\n",
    "            accuracies.append(evaluate_acc(validation_labels,predictions))\n",
    "\n",
    "        return np.array(accuracies)\n",
    "        \n",
    "\n",
    "    def validate_k(self, validation_data, validation_labels, max_k) -> \"KNN_Graph\":\n",
    "        accuracies = self.k_trial(validation_data, validation_labels, max_k)\n",
    "        self.k = np.argmax(accuracies) + 1\n",
    "        return self\n"
   ]
  },
  {
   "cell_type": "markdown",
   "metadata": {},
   "source": [
    "#### Decision tree implementation\n",
    "\n",
    "Next, we implement our DT class which is also a subclass of Model.\n",
    "However, this model also requires a Node class which we implement too."
   ]
  },
  {
   "cell_type": "code",
   "execution_count": 228,
   "metadata": {},
   "outputs": [],
   "source": [
    "class Node:\n",
    "\n",
    "    depth: int\n",
    "    feature : int\n",
    "    threshold : float\n",
    "    \n",
    "    def __init__(self, data_indices, parent):\n",
    "        self.data_indices = data_indices\n",
    "        self.left = None\n",
    "        self.right = None\n",
    "        self.feature = None\n",
    "        self.threshold = None\n",
    "        self.depth = 0\n",
    "        if parent:\n",
    "            self.depth = parent.depth + 1\n",
    "            self.data = parent.data\n",
    "            self.labels = parent.labels   \n",
    "\n",
    "                   \n",
    "\n",
    "class DecisionTree(Model):\n",
    "\n",
    "    max_depth: int\n",
    "    root: Node\n",
    "\n",
    "    def __init__(self, max_depth: int = 1):\n",
    "        self.max_depth = max_depth\n",
    "        self.root = None\n",
    "\n",
    "\n",
    "    def greedy_split(self, node):\n",
    "        best_feature, best_threshold = None, None\n",
    "        best_cost = np.inf\n",
    "        nb_points, nb_features = node.data.shape\n",
    "        sorted_data = np.sort(node.data[node.data_indices], axis=0)\n",
    "        thresholds = test_candidates = (sorted_data[1:] + sorted_data[:-1]) / 2.\n",
    "        for i in range(nb_features):\n",
    "            feature_data = node.data[node.data_indices, i]\n",
    "            for t in thresholds[:,i]:\n",
    "                left_indices = node.data_indices[feature_data <= t]\n",
    "                right_indices = node.data_indices[feature_data > t]\n",
    "                if len(left_indices) == 0 or len(right_indices) == 0:\n",
    "                    continue\n",
    "                left_cost = gini_index(node.labels[left_indices])\n",
    "                right_cost = gini_index(node.labels[right_indices])\n",
    "                num_left, num_right = left_indices.shape[0], right_indices.shape[0]\n",
    "                cost = (num_left * left_cost + num_right * right_cost) / nb_points\n",
    "                if cost < best_cost:\n",
    "                    best_cost = cost\n",
    "                    best_feature = i\n",
    "                    best_threshold = t\n",
    "        return best_cost, best_feature, best_threshold\n",
    "\n",
    "\n",
    "    def fit(self, training_data: np.ndarray, true_labels: list[str]) -> \"DecisionTree\":\n",
    "        root = Node(np.arange(len(training_data)), None)\n",
    "        root.labels = true_labels\n",
    "        root.data = training_data\n",
    "        self.root = root\n",
    "        self._fit_tree(self.root)\n",
    "        return self\n",
    "    \n",
    "\n",
    "    def _fit_tree(self, node):\n",
    "        if node.depth == self.max_depth or len(node.data_indices) <= 1:\n",
    "            return\n",
    "        cost, feature, threshold = self.greedy_split(node)\n",
    "        if np.isinf(cost):\n",
    "            return\n",
    "        test = node.data[node.data_indices,feature] <= threshold\n",
    "        node.feature = feature\n",
    "        node.threshold = threshold\n",
    "        left = Node(node.data_indices[test], node)\n",
    "        right = Node(node.data_indices[np.logical_not(test)], node)\n",
    "        self._fit_tree(left)\n",
    "        self._fit_tree(right)\n",
    "        node.left = left\n",
    "        node.right = right\n",
    "        \n",
    "\n",
    "    def predict(self, input: np.ndarray) -> list:\n",
    "        predictions = []\n",
    "        for i in range(input.shape[0]):\n",
    "            predictions.append(self._classify(input[i], self.root, 0))\n",
    "        return predictions\n",
    "\n",
    "\n",
    "    def _classify(self, point, node, depth):\n",
    "        if(node.threshold != None and node.feature != None and depth < self.max_depth):\n",
    "            if(point[node.feature] <= node.threshold):\n",
    "                return self._classify(point, node.left, depth+1)\n",
    "            else:\n",
    "                return self._classify(point, node.right, depth+1)\n",
    "        else:\n",
    "            return most_common_label(node.labels[node.data_indices])\n",
    "\n",
    "\n",
    "    def max_depth_trial(self, input: np.ndarray, labels, validation_input, validation_labels, max_depth: int) -> np.ndarray:\n",
    "        accuracies = []\n",
    "        self.max_depth = max_depth\n",
    "        self.fit(input, labels)\n",
    "        for d in range(1, max_depth):\n",
    "            self.max_depth = d\n",
    "            predictions = self.predict(validation_input)\n",
    "            accuracies.append(evaluate_acc(validation_labels, predictions))\n",
    "        \n",
    "        return np.array(accuracies)\n",
    "\n",
    "\n",
    "    def validate_depth(self, input: np.ndarray, labels, validation_input, validation_labels, max_depth: int) -> \"DecisionTree\":\n",
    "        accuracies = self.max_depth_trial(input, labels, validation_input, validation_labels, max_depth)\n",
    "        self.max_depth = np.argmax(accuracies) + 1\n",
    "        return self\n"
   ]
  },
  {
   "cell_type": "markdown",
   "metadata": {},
   "source": [
    "### Data representation\n",
    "Finally, before running the experiments, we implement a plotting function to be aple to represent our data."
   ]
  },
  {
   "cell_type": "code",
   "execution_count": 229,
   "metadata": {},
   "outputs": [],
   "source": [
    "colors = ['b', 'r', 'g']\n",
    "\n",
    "def plot(x_data: np.ndarray, y_datas: list[np.ndarray], x_name: str, y_names: list[str]):\n",
    "    figure = plt.figure()\n",
    "    axes = figure.add_subplot(111)\n",
    "    \n",
    "    for i in range(len(y_datas)):\n",
    "        axes.plot(x_data, y_datas[i] * 100, label = y_names[i], c=colors[i % 3])\n",
    "\n",
    "    plt.xlabel(x_name)\n",
    "    plt.ylabel(\"Accuracy\")\n",
    "    plt.axis([x_data[0], x_data[-1], 0, 100])\n",
    "\n",
    "    plt.legend(loc='lower right')\n",
    "    plt.show()\n",
    "\n",
    "\n",
    "def bar(x_data, y_datas: list[np.ndarray], x_name: str, y_names: list[str]):\n",
    "    figure = plt.figure()\n",
    "    bars = figure.add_subplot(111)\n",
    "    \n",
    "    for i in range(len(y_datas)):\n",
    "        bars.bar(x_data, y_datas[i] * 100, label = y_names[i], color=colors[i % 3])\n",
    "\n",
    "    plt.xlabel(x_name)\n",
    "    plt.ylabel(\"Accuracy\")\n",
    "\n",
    "    plt.legend(loc='lower right')\n",
    "    plt.show()"
   ]
  },
  {
   "cell_type": "markdown",
   "metadata": {},
   "source": [
    "### Experiments\n",
    "\n",
    "Now, that we have our inputs, models, and data representation functions ready, we can start running our experiments.\n",
    "\n",
    "#### KNN vs DT\n",
    "We start by comparing the accuracy of KNN vs DT on both data sets. We use default values `k = 1` and `max_depth = 8`."
   ]
  },
  {
   "cell_type": "code",
   "execution_count": 230,
   "metadata": {},
   "outputs": [
    {
     "name": "stdout",
     "output_type": "stream",
     "text": [
      "Hepatitis prediction was run 10 times on both KNN and DT:\n",
      "Average accuracy for KNN: 0.8315789473684211\n",
      "Average accuracy for DT: 0.8684210526315791\n",
      "\n",
      "Diabetes prediction was run 10 times on both KNN and DT:\n",
      "Average accuracy for KNN: 0.9951219512195122\n",
      "Average accuracy for DT: 0.9149825783972124\n"
     ]
    }
   ],
   "source": [
    "knn = KNN_Graph(1, euclidean_distance)\n",
    "dt = DecisionTree(8)\n",
    "\n",
    "# Run tests on hepatitis data set\n",
    "hepatitis_knn_accuracies = []\n",
    "hepatitis_dt_accuracies = []\n",
    "\n",
    "for i in range(10):\n",
    "    knn.fit(hepatitis_training, hepatitis_training[:, 0])\n",
    "    hepatitis_knn_predictions = knn.predict(hepatitis_testing[:, 1:])\n",
    "    hepatitis_knn_accuracies.append(evaluate_acc(hepatitis_testing[:, 0], hepatitis_knn_predictions))\n",
    "\n",
    "    dt.fit(hepatitis_training, hepatitis_training[:, 0])\n",
    "    hepatitis_dt_predictions = dt.predict(hepatitis_testing[:, 1:])\n",
    "    hepatitis_dt_accuracies.append(evaluate_acc(hepatitis_testing[:, 0], hepatitis_dt_predictions))\n",
    "\n",
    "    shuffle()\n",
    "\n",
    "hepatitis_knn_accuracies = np.array(hepatitis_knn_accuracies)\n",
    "hepatitis_dt_accuracies = np.array(hepatitis_dt_accuracies)\n",
    "\n",
    "print(f'Hepatitis prediction was run 10 times on both KNN and DT:')\n",
    "print(f'Average accuracy for KNN: {np.average(hepatitis_knn_accuracies)}')\n",
    "print(f'Average accuracy for DT: {np.average(hepatitis_dt_accuracies)}')\n",
    "\n",
    "\n",
    "# Run tests on diabetes data set\n",
    "diabetes_knn_accuracies = []\n",
    "diabetes_dt_accuracies = []\n",
    "\n",
    "for i in range(10):\n",
    "    knn.fit(diabetes_training, diabetes_training[:, 0])\n",
    "    diabetes_knn_predictions = knn.predict(diabetes_testing[:, 1:])\n",
    "    diabetes_knn_accuracies.append(evaluate_acc(diabetes_testing[:, 0], diabetes_knn_predictions))\n",
    "\n",
    "    dt.fit(diabetes_training, diabetes_training[:, 0])\n",
    "    diabetes_dt_predictions = dt.predict(diabetes_testing[:, 1:])\n",
    "    diabetes_dt_accuracies.append(evaluate_acc(diabetes_testing[:, 0], diabetes_dt_predictions))\n",
    "    \n",
    "    shuffle()\n",
    "\n",
    "diabetes_knn_accuracies = np.array(diabetes_knn_accuracies)\n",
    "diabetes_dt_accuracies = np.array(diabetes_dt_accuracies)\n",
    "\n",
    "print()\n",
    "print(f'Diabetes prediction was run 10 times on both KNN and DT:')\n",
    "print(f'Average accuracy for KNN: {np.average(diabetes_knn_accuracies)}')\n",
    "print(f'Average accuracy for DT: {np.average(diabetes_dt_accuracies)}')"
   ]
  },
  {
   "cell_type": "markdown",
   "metadata": {},
   "source": [
    "#### Different Values of K in KNN\n",
    "\n",
    "Now, we are interested in seeing how changing the value of `K` can affect the prediction accuracy of KNN.\n",
    "\n",
    "We perform our test 20 times per value of `K` on the hepatitis data set, and plot the average results."
   ]
  },
  {
   "cell_type": "code",
   "execution_count": 231,
   "metadata": {},
   "outputs": [
    {
     "name": "stdout",
     "output_type": "stream",
     "text": [
      "[0.76842105 0.71052632 0.77894737 0.76578947 0.81842105 0.81315789\n",
      " 0.82105263 0.82105263 0.84210526 0.83947368 0.84473684 0.84473684\n",
      " 0.84473684 0.84473684]\n"
     ]
    },
    {
     "data": {
      "image/png": "[encoded data removed]",
      "text/plain": [
       "<Figure size 640x480 with 1 Axes>"
      ]
     },
     "metadata": {},
     "output_type": "display_data"
    }
   ],
   "source": [
    "knn = KNN_Graph(1, euclidean_distance)\n",
    "knn.fit(hepatitis_training, hepatitis_training[:, 0])\n",
    "\n",
    "hepatitis_k_trials = np.zeros(14)\n",
    "\n",
    "for i in range(20):\n",
    "    hepatitis_k_trials += knn.k_trial(hepatitis_validation[:, 1:], hepatitis_validation[:, 0], 15)\n",
    "    shuffle()\n",
    "\n",
    "hepatitis_k_trials /= 20\n",
    "\n",
    "plot(range(1, 15), [hepatitis_k_trials], 'K', ['Accuracy'])"
   ]
  },
  {
   "cell_type": "markdown",
   "metadata": {},
   "source": [
    "#### Different values of maximum depth in DT\n",
    "\n",
    "Now, we are interested in seeing how changing the value of `max_depth` can affect the prediction accuracy of DT.\n",
    "\n",
    "We perform our test 20 times per value of `max_depth` on the hepatitis data set, and plot the average results."
   ]
  },
  {
   "cell_type": "code",
   "execution_count": 241,
   "metadata": {},
   "outputs": [
    {
     "name": "stdout",
     "output_type": "stream",
     "text": [
      "[0.78157895 0.77368421 0.78157895 0.77631579 0.77631579 0.77631579\n",
      " 0.77631579 0.77631579 0.77631579 0.77631579 0.77631579 0.77631579\n",
      " 0.77631579 0.77631579]\n"
     ]
    },
    {
     "data": {
      "image/png": "[encoded data removed]",
      "text/plain": [
       "<Figure size 640x480 with 1 Axes>"
      ]
     },
     "metadata": {},
     "output_type": "display_data"
    }
   ],
   "source": [
    "dt = DecisionTree(1)\n",
    "dt.fit(hepatitis_training, hepatitis_training[:, 0])\n",
    "\n",
    "hepatitis_max_depth_trials = np.zeros(14)\n",
    "\n",
    "for i in range(20):\n",
    "    hepatitis_max_depth_trials += dt.max_depth_trial(hepatitis_training[:, 1:], hepatitis_training[:, 0], hepatitis_validation[:, 1:], hepatitis_validation[:, 0], 15)\n",
    "    shuffle()\n",
    "\n",
    "hepatitis_max_depth_trials /= 20\n",
    "\n",
    "plot(range(1, 15), [hepatitis_max_depth_trials], 'max_depth', ['Accuracy'])"
   ]
  }
 ],
 "metadata": {
  "kernelspec": {
   "display_name": "Python 3.10.6 64-bit",
   "language": "python",
   "name": "python3"
  },
  "language_info": {
   "codemirror_mode": {
    "name": "ipython",
    "version": 3
   },
   "file_extension": ".py",
   "mimetype": "text/x-python",
   "name": "python",
   "nbconvert_exporter": "python",
   "pygments_lexer": "ipython3",
   "version": "3.10.6"
  },
  "orig_nbformat": 4,
  "vscode": {
   "interpreter": {
    "hash": "916dbcbb3f70747c44a77c7bcd40155683ae19c65e1c03b4aa3499c5328201f1"
   }
  }
 },
 "nbformat": 4,
 "nbformat_minor": 2
}
