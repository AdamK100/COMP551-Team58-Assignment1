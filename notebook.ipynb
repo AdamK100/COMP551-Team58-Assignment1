{
 "cells": [
  {
   "cell_type": "code",
   "execution_count": 23,
   "metadata": {},
   "outputs": [],
   "source": [
    "import numpy as np\n",
    "import matplotlib.pyplot as plt\n",
    "import os\n",
    "from math import sqrt, log\n",
    "from typing import Callable"
   ]
  },
  {
   "cell_type": "markdown",
   "metadata": {},
   "source": [
    "### Input parsing and cleaning\n",
    "\n",
    "The first task of the assignment is to parse the input, and get rid of the data points with missing or malformed features.\n",
    "\n",
    "In our case, we decided to parse the CSV files manually.\n",
    "\n",
    "We start by implementing a function which, given a line of data, tells us whether the line is clean or malformed."
   ]
  },
  {
   "cell_type": "code",
   "execution_count": 24,
   "metadata": {},
   "outputs": [],
   "source": [
    "def is_clean(line: str) -> bool:\n",
    "    for data_entry in line.split(\",\"):\n",
    "        if data_entry == \"?\":\n",
    "            return False\n",
    "    \n",
    "    return True"
   ]
  },
  {
   "cell_type": "markdown",
   "metadata": {},
   "source": [
    "Next, we proceed to read the file line-by-line, check for cleanliness, and finally parse the resulting input list to a numpy array of floats."
   ]
  },
  {
   "cell_type": "code",
   "execution_count": 25,
   "metadata": {},
   "outputs": [],
   "source": [
    "# Import hepatitis data\n",
    "__hepatitis_data = open(os.path.abspath('') + \"/data/hepatitis.data\")\n",
    "\n",
    "hepatitis_clean_data: list[str] = []\n",
    "\n",
    "for __line in __hepatitis_data.readlines():\n",
    "    __line = __line.strip('\\n')\n",
    "    if(is_clean(__line)):\n",
    "        hepatitis_clean_data.append(__line.split(','))\n",
    "\n",
    "hepatitis_clean_data: np.ndarray = np.array(hepatitis_clean_data, float)\n",
    "\n",
    "__hepatitis_data.close()\n",
    "\n",
    "\n",
    "\n",
    "# Import diabetes data\n",
    "__diabetes_data = open(os.path.abspath('') + \"/data/messidor_features.arff\")\n",
    "\n",
    "diabetes_clean_data: list[str] = []\n",
    "\n",
    "__read: bool = False\n",
    "for __line in __diabetes_data.readlines():\n",
    "    __line = __line.strip('\\n')\n",
    "    if __read and is_clean(__line):\n",
    "        diabetes_clean_data.append(__line.split(','))\n",
    "\n",
    "    else:\n",
    "        __read = __line == \"@data\"\n",
    "\n",
    "diabetes_clean_data: np.ndarray = np.array(diabetes_clean_data, float)\n",
    "diabetes_clean_data[:, [-1, 0]] = diabetes_clean_data[:, [0, -1]] # Place class in first column\n",
    "diabetes_clean_data = diabetes_clean_data[:, :-1]\n",
    "\n",
    "__diabetes_data.close()"
   ]
  },
  {
   "cell_type": "markdown",
   "metadata": {},
   "source": [
    "We also hardcode the feature names."
   ]
  },
  {
   "cell_type": "code",
   "execution_count": 26,
   "metadata": {},
   "outputs": [],
   "source": [
    "hepatitis_feature_names: list[str] = ['Alive', 'Age', 'Sex', 'Steroid', 'Antivirals', 'Fatigue', 'Malaise', 'Anorexia', 'Liver Big', 'Liver Firm', 'Spleen Palpable', 'Spiders', 'Ascites', 'Varices', 'Bilirubin', 'Alk Phosphate', 'Sgot', 'Albumin', 'Protime', 'Histology']\n",
    "diabetes_feature_names: list[str] = ['Has DR', 'Assesment Quality', 'Retinal Abnormality Pre-screening', 'MA (alpha=0.5)', 'MA (alpha=0.6)', 'MA (alpha=0.7)', 'MA (alpha=0.8)', 'MA (alpha=0.9)', 'MA (alpha=1.0)', 'exudates (alpha=0.3)', 'exudates (alpha=0.4)', 'exudates (alpha=0.5)', 'exudates (alpha=0.6)', 'exudates (alpha=0.7)', 'exudates (alpha=0.8)', 'exudates (alpha=0.9)', 'exudates (alpha=1.0)', 'Macula-Optic Disc Distance', 'Optic Disc Diameter', 'AM/FM Based classification']"
   ]
  },
  {
   "cell_type": "markdown",
   "metadata": {},
   "source": [
    "Now that we have our inputs, we proceed to shuffle the data and divide into training, test, and validation sets.\n",
    "\n",
    "We choose the following split: 50% training, 25% testing, 25% validation."
   ]
  },
  {
   "cell_type": "code",
   "execution_count": 27,
   "metadata": {},
   "outputs": [],
   "source": [
    "hepatitis_training = []\n",
    "hepatitis_testing = []\n",
    "hepatitis_validation = []\n",
    "\n",
    "diabetes_training = []\n",
    "diabetes_testing = []\n",
    "diabetes_validation = []\n",
    "\n",
    "hepatitis_size = hepatitis_clean_data.shape[0]\n",
    "hepatitis_size_50 = int(hepatitis_size / 2)\n",
    "hepatitis_size_75 = int(hepatitis_size * 3 / 4)\n",
    "\n",
    "diabetes_size = diabetes_clean_data.shape[0]\n",
    "diabetes_size_50 = int(diabetes_size / 2)\n",
    "diabetes_size_75 = int(diabetes_size * 3 / 4)\n",
    "\n",
    "def shuffle():\n",
    "    global hepatitis_training\n",
    "    global hepatitis_testing\n",
    "    global hepatitis_validation\n",
    "    global diabetes_training\n",
    "    global diabetes_testing\n",
    "    global diabetes_validation\n",
    "\n",
    "    # Shuffle and split hepatitis data\n",
    "    np.random.shuffle(hepatitis_clean_data)\n",
    "    hepatitis_training = hepatitis_clean_data[:hepatitis_size_50]\n",
    "    hepatitis_testing = hepatitis_clean_data[(hepatitis_size_50 + 1):hepatitis_size_75:1]\n",
    "    hepatitis_validation = hepatitis_clean_data[(hepatitis_size_75 + 1):]\n",
    "\n",
    "\n",
    "    # Shuffle and split diabetes data\n",
    "    np.random.shuffle(diabetes_clean_data)\n",
    "    diabetes_training = diabetes_clean_data[:diabetes_size_50]\n",
    "    diabetes_testing = diabetes_clean_data[(diabetes_size_50 + 1):diabetes_size_75:1]\n",
    "    diabetes_validation = diabetes_clean_data[(diabetes_size_75 + 1):]\n",
    "\n",
    "shuffle()"
   ]
  },
  {
   "cell_type": "markdown",
   "metadata": {},
   "source": [
    "#### Basic Statistics on Dataset 1"
   ]
  },
  {
   "cell_type": "code",
   "execution_count": 28,
   "metadata": {},
   "outputs": [
    {
     "name": "stdout",
     "output_type": "stream",
     "text": [
      "\n",
      "Dataset 1 Statistics:\n",
      "Class 1 (Die) data ratio: 0.1625\n",
      "Class 2 (Live) data ratio: 0.8375\n",
      "Attrib 1 (Age) Mean: 40.6625\n",
      "Attrib 2 (Sex) distribution: Male = 0.8625, Female = 0.1375\n"
     ]
    }
   ],
   "source": [
    "distrib1 = np.bincount((hepatitis_clean_data[:,0]).astype(int))\n",
    "print(\"\\nDataset 1 Statistics:\")\n",
    "print('Class 1 (Die) data ratio: ' + str(distrib1[1]/(float)(len(hepatitis_clean_data[:,0]))))\n",
    "print('Class 2 (Live) data ratio: ' + str(distrib1[2]/(float)(len(hepatitis_clean_data[:,0]))))\n",
    "print('Attrib 1 (Age) Mean: ' + str(np.mean(hepatitis_clean_data[:,1])))\n",
    "sdistrib = np.bincount((hepatitis_clean_data[:,2]).astype(int))\n",
    "print('Attrib 2 (Sex) distribution: Male = ' + str(sdistrib[1]/(float)(len(hepatitis_clean_data[:,2]))) + \", Female = \" + str(sdistrib[2]/(float)(len(hepatitis_clean_data[:,2]))))"
   ]
  },
  {
   "cell_type": "markdown",
   "metadata": {},
   "source": [
    "#### Basic Statistics on Dataset 2"
   ]
  },
  {
   "cell_type": "code",
   "execution_count": 29,
   "metadata": {},
   "outputs": [
    {
     "name": "stdout",
     "output_type": "stream",
     "text": [
      "\n",
      "Dataset 2 Statistics:\n",
      "Class 0 data ratio: 0.6637706342311034\n",
      "Class 1 data ratio: 0.3362293657688966\n",
      "Attrib 0 distribution: '0' = 0.46915725456125107, '1' = 0.5308427454387489\n",
      "Attrib 1 distribution: '0' = 0.08166811468288444, '1' = 0.9183318853171155\n",
      "Attrib 2 Mean: 38.42832319721981\n"
     ]
    }
   ],
   "source": [
    "print(\"\\nDataset 2 Statistics:\")\n",
    "distrib2 = np.bincount((diabetes_clean_data[:,-1]).astype(int))\n",
    "print('Class 0 data ratio: ' + str(distrib2[0]/(float)(len(diabetes_clean_data[:,-1]))))\n",
    "print('Class 1 data ratio: ' + str(distrib2[1]/(float)(len(diabetes_clean_data[:,-1]))))\n",
    "adistrib = np.bincount((diabetes_clean_data[:,0]).astype(int))\n",
    "print('Attrib 0 distribution: \\'0\\' = ' + str(adistrib[0]/(float)(len(diabetes_clean_data[:,0]))) + \", \\'1\\' = \" + str(adistrib[1]/(float)(len(diabetes_clean_data[:,0]))))\n",
    "adistrib2 = np.bincount((diabetes_clean_data[:,1]).astype(int))\n",
    "print('Attrib 1 distribution: \\'0\\' = ' + str(adistrib2[0]/(float)(len(diabetes_clean_data[:,1]))) + \", \\'1\\' = \" + str(adistrib2[1]/(float)(len(diabetes_clean_data[:,1]))))\n",
    "print('Attrib 2 Mean: ' + str(np.mean(diabetes_clean_data[:,2])))"
   ]
  },
  {
   "cell_type": "markdown",
   "metadata": {},
   "source": [
    "### Models implementation\n",
    "\n",
    "Next up, we want to build both of our models (KNN and DT) as classes.\n",
    "\n",
    "For our experiment we want our models to have at least a fitting and predicting functionality.\n",
    "Therefore, we start by defining a base Model class."
   ]
  },
  {
   "cell_type": "code",
   "execution_count": 30,
   "metadata": {},
   "outputs": [],
   "source": [
    "class Model:\n",
    "    \n",
    "    def __init__(self, hyperparameter: int):\n",
    "        pass\n",
    "    \n",
    "    def fit(self, training_data, true_labels) -> \"Model\":\n",
    "        pass\n",
    "    \n",
    "    def predict(self, input) -> list:\n",
    "        pass"
   ]
  },
  {
   "cell_type": "markdown",
   "metadata": {},
   "source": [
    "#### Helper methods\n",
    "\n",
    "However, before we can proceed to implement these, we need to implement some helper functions which will be of use in the classes."
   ]
  },
  {
   "cell_type": "code",
   "execution_count": 31,
   "metadata": {},
   "outputs": [],
   "source": [
    "def euclidean_distance(x1: list[float], x2: list[float]) -> float:\n",
    "    return np.sqrt(np.sum((np.array(x2) - np.array(x1)) ** 2))\n",
    "\n",
    "\n",
    "def manhattan_distance(x1: list[float], x2: list[float]) -> float:\n",
    "    return np.sum(np.absolute(np.array(x1) - np.array(x2)))\n",
    "\n",
    "\n",
    "def most_common_label(l: list):\n",
    "    return np.bincount(np.array(l, int)).argmax()\n",
    "\n",
    "\n",
    "def evaluate_acc(true_labels: list, target_labels: list) -> float:\n",
    "    return np.sum(true_labels == target_labels) / len(true_labels)\n",
    "\n",
    "\n",
    "def gini_index(labels):\n",
    "    class_probs = np.bincount(labels.astype(int)) / len(labels)\n",
    "    return 1 - np.sum(class_probs ** 2)\n",
    "\n",
    "\n",
    "def misclass_rate(labels):\n",
    "    return np.sum(labels != np.array([most_common_label(labels)] * len(labels)))/len(labels)\n",
    "\n",
    "\n",
    "def entropy(labels):\n",
    "    c_probs = np.bincount(labels.astype(int))/len(labels)\n",
    "    s = 0\n",
    "    for c in c_probs:\n",
    "        if (c != 0): \n",
    "            s -= c * log(c,2)\n",
    "    return s\n",
    "    \n",
    "\n",
    "def cosine_similarity(vector1,vector2):\n",
    "    return np.sum(vector1 * vector2)/(sqrt(np.sum(vector1 ** 2)) * sqrt(np.sum(vector2 ** 2)))\n",
    "\n",
    "\n",
    "def features_by_relevance(data: np.ndarray, true_labels: np.ndarray) -> np.ndarray:\n",
    "    similarities = []\n",
    "    for i in range(data.shape[1]):\n",
    "        similarities.append(cosine_similarity(data[:,i],true_labels))\n",
    "    return np.array(similarities)\n",
    "\n",
    "\n",
    "def remove_irrelevant_features(data : np.ndarray, true_labels : np.ndarray, nb_features : int) -> np.ndarray:\n",
    "    # similarities = np.apply_along_axis(lambda d: cosine_similarity(d, true_labels), 0, data)\n",
    "    similarities = features_by_relevance(data, true_labels)\n",
    "    min_similarities = np.argpartition(similarities,nb_features)\n",
    "    return np.delete(data, min_similarities[:nb_features], 1)"
   ]
  },
  {
   "cell_type": "markdown",
   "metadata": {},
   "source": [
    "#### KNN Graph implementation\n",
    "\n",
    "We now proceed to implement our KNN Graph class which is a subclass of Model."
   ]
  },
  {
   "cell_type": "code",
   "execution_count": 32,
   "metadata": {},
   "outputs": [],
   "source": [
    "class KNN_Graph(Model):\n",
    "\n",
    "    k: int\n",
    "    dist_fn: Callable[[list[float], list[float]], float]\n",
    "    training_data: np.ndarray\n",
    "    true_labels: list[str]\n",
    "\n",
    "    def __init__(self, k: int = 1, dist_fn: Callable[[list[float], list[float]], float] = euclidean_distance):\n",
    "        self.distances_valid = False\n",
    "        self.k = k\n",
    "        self.dist_fn = dist_fn\n",
    "\n",
    "\n",
    "    def fit(self, training_data: np.ndarray, true_labels: list[str]) -> \"KNN_Graph\":\n",
    "        self.distances_valid = False\n",
    "        self.training_data = training_data\n",
    "        self.true_labels = true_labels\n",
    "        return self\n",
    "    \n",
    "\n",
    "    def compute_distances_single_point(self, test_data_point):\n",
    "        distances = np.apply_along_axis(lambda tdp: [self.dist_fn(test_data_point, tdp[1:]), tdp[0]], 1, self.training_data)\n",
    "        distances = distances[distances[:, 0].argsort()] # Sort based row by first column\n",
    "        return distances\n",
    "\n",
    "\n",
    "    def compute_distances(self, test_data) -> np.ndarray:\n",
    "        return np.apply_along_axis(self.compute_distances_single_point, 1, test_data)\n",
    "    \n",
    "\n",
    "    def predict(self, test_data: np.ndarray) -> list:\n",
    "        distances = self.compute_distances(test_data)\n",
    "        return [most_common_label(d[:self.k, 1]) for d in distances]\n",
    "    \n",
    "\n",
    "    def k_trial(self, validation_data, validation_labels, max_k: int) -> np.ndarray:\n",
    "        distances = self.compute_distances(validation_data)\n",
    "\n",
    "        accuracies = []\n",
    "        for k in range(1, max_k):\n",
    "            self.k = k\n",
    "            predictions = [most_common_label(d[:k, 1]) for d in distances]\n",
    "            accuracies.append(evaluate_acc(validation_labels,predictions))\n",
    "\n",
    "        return np.array(accuracies)\n",
    "        \n",
    "\n",
    "    def validate_k(self, validation_data, validation_labels, max_k) -> \"KNN_Graph\":\n",
    "        accuracies = self.k_trial(validation_data, validation_labels, max_k)\n",
    "        self.k = np.argmax(accuracies) + 1\n",
    "        return self\n"
   ]
  },
  {
   "cell_type": "markdown",
   "metadata": {},
   "source": [
    "#### Decision tree implementation\n",
    "\n",
    "Next, we implement our DT class which is also a subclass of Model.\n",
    "However, this model also requires a Node class which we implement too."
   ]
  },
  {
   "cell_type": "code",
   "execution_count": 33,
   "metadata": {},
   "outputs": [],
   "source": [
    "class Node:\n",
    "\n",
    "    depth: int\n",
    "    feature : int\n",
    "    threshold : float\n",
    "    \n",
    "    def __init__(self, data_indices, parent):\n",
    "        self.data_indices = data_indices\n",
    "        self.left = None\n",
    "        self.right = None\n",
    "        self.feature = None\n",
    "        self.threshold = None\n",
    "        self.depth = 0\n",
    "        if parent:\n",
    "            self.depth = parent.depth + 1\n",
    "            self.data = parent.data\n",
    "            self.labels = parent.labels   \n",
    "\n",
    "                   \n",
    "\n",
    "class DecisionTree(Model):\n",
    "\n",
    "    max_depth: int\n",
    "    root: Node\n",
    "    cost_fn: Callable[[list[float]], float]\n",
    "    def __init__(self, max_depth: int = 1, cost_fn: Callable[[list[float]], float] = gini_index):\n",
    "        self.max_depth = max_depth\n",
    "        self.cost_fn = cost_fn\n",
    "        self.root = None\n",
    "\n",
    "\n",
    "    def greedy_split(self, node):\n",
    "        best_feature, best_threshold = None, None\n",
    "        best_cost = np.inf\n",
    "        nb_points, nb_features = node.data.shape\n",
    "        sorted_data = np.sort(node.data[node.data_indices], axis=0)\n",
    "        thresholds = test_candidates = (sorted_data[1:] + sorted_data[:-1]) / 2.\n",
    "        for i in range(nb_features):\n",
    "            feature_data = node.data[node.data_indices, i]\n",
    "            for t in thresholds[:,i]:\n",
    "                left_indices = node.data_indices[feature_data <= t]\n",
    "                right_indices = node.data_indices[feature_data > t]\n",
    "                if len(left_indices) == 0 or len(right_indices) == 0:\n",
    "                    continue\n",
    "                left_cost = self.cost_fn(node.labels[left_indices])\n",
    "                right_cost = self.cost_fn(node.labels[right_indices])\n",
    "                num_left, num_right = left_indices.shape[0], right_indices.shape[0]\n",
    "                cost = (num_left * left_cost + num_right * right_cost) / nb_points\n",
    "                if cost < best_cost:\n",
    "                    best_cost = cost\n",
    "                    best_feature = i\n",
    "                    best_threshold = t\n",
    "        return best_cost, best_feature, best_threshold\n",
    "\n",
    "\n",
    "    def fit(self, training_data: np.ndarray, true_labels: list[str]) -> \"DecisionTree\":\n",
    "        root = Node(np.arange(len(training_data)), None)\n",
    "        root.labels = true_labels\n",
    "        root.data = training_data\n",
    "        self.root = root\n",
    "        self._fit_tree(self.root)\n",
    "        return self\n",
    "    \n",
    "\n",
    "    def _fit_tree(self, node):\n",
    "        if node.depth == self.max_depth or len(node.data_indices) <= 1:\n",
    "            return\n",
    "        cost, feature, threshold = self.greedy_split(node)\n",
    "        if np.isinf(cost):\n",
    "            return\n",
    "        test = node.data[node.data_indices,feature] <= threshold\n",
    "        node.feature = feature\n",
    "        node.threshold = threshold\n",
    "        left = Node(node.data_indices[test], node)\n",
    "        right = Node(node.data_indices[np.logical_not(test)], node)\n",
    "        self._fit_tree(left)\n",
    "        self._fit_tree(right)\n",
    "        node.left = left\n",
    "        node.right = right\n",
    "        \n",
    "\n",
    "    def predict(self, input: np.ndarray) -> list:\n",
    "        predictions = []\n",
    "        for i in range(input.shape[0]):\n",
    "            predictions.append(self._classify(input[i], self.root, 0))\n",
    "        return predictions\n",
    "\n",
    "\n",
    "    def _classify(self, point, node, depth):\n",
    "        if(node.threshold != None and node.feature != None and depth < self.max_depth):\n",
    "            if(point[node.feature] <= node.threshold):\n",
    "                return self._classify(point, node.left, depth+1)\n",
    "            else:\n",
    "                return self._classify(point, node.right, depth+1)\n",
    "        else:\n",
    "            return most_common_label(node.labels[node.data_indices])\n",
    "\n",
    "\n",
    "    def max_depth_trial(self, input: np.ndarray, labels, validation_input, validation_labels, max_depth: int) -> np.ndarray:\n",
    "        accuracies = []\n",
    "        self.max_depth = max_depth\n",
    "        self.fit(input, labels)\n",
    "        for d in range(1, max_depth):\n",
    "            self.max_depth = d\n",
    "            predictions = self.predict(validation_input)\n",
    "            accuracies.append(evaluate_acc(validation_labels, predictions))\n",
    "        \n",
    "        return np.array(accuracies)\n",
    "\n",
    "\n",
    "    def validate_depth(self, input: np.ndarray, labels, validation_input, validation_labels, max_depth: int) -> \"DecisionTree\":\n",
    "        accuracies = self.max_depth_trial(input, labels, validation_input, validation_labels, max_depth)\n",
    "        self.max_depth = np.argmax(accuracies) + 1\n",
    "        return self\n",
    "\n"
   ]
  },
  {
   "cell_type": "markdown",
   "metadata": {},
   "source": [
    "### Data representation\n",
    "Finally, before running the experiments, we implement a plotting function to be aple to represent our data."
   ]
  },
  {
   "cell_type": "code",
   "execution_count": 34,
   "metadata": {},
   "outputs": [],
   "source": [
    "colors = ['b', 'r', 'g']\n",
    "\n",
    "def plot(x_data: np.ndarray, y_datas: list[np.ndarray], x_name: str, y_names: list[str]):\n",
    "    figure = plt.figure()\n",
    "    axes = figure.add_subplot(111)\n",
    "    \n",
    "    for i in range(len(y_datas)):\n",
    "        axes.plot(x_data, y_datas[i] * 100, label = y_names[i], c=colors[i % 3])\n",
    "\n",
    "    plt.xlabel(x_name)\n",
    "    plt.ylabel(\"Accuracy\")\n",
    "    plt.axis([x_data[0], x_data[-1], 0, 100])\n",
    "\n",
    "    plt.legend(loc='lower right')\n",
    "    plt.show()\n",
    "\n",
    "\n",
    "def bar(x_data, y_datas: list[np.ndarray], x_name: str, y_names: list[str]):\n",
    "    figure = plt.figure()\n",
    "    bars = figure.add_subplot(111)\n",
    "    \n",
    "    for i in range(len(y_datas)):\n",
    "        bars.bar(x_data, y_datas[i] * 100, label = y_names[i], color=colors[i % 3])\n",
    "\n",
    "    plt.xlabel(x_name)\n",
    "    plt.ylabel(\"Accuracy\")\n",
    "\n",
    "    plt.legend(loc='lower right')\n",
    "    plt.show()\n",
    "\n",
    "\n",
    "def scatter(sets: list[np.ndarray], labels: list[str], axes: list[str]):\n",
    "    figure = plt.figure()\n",
    "    scatter = figure.add_subplot(111)\n",
    "\n",
    "    for i in range(len(sets)):\n",
    "        scatter.scatter((sets[i])[:, 0], (sets[i])[:, 1], label=labels[i], c=colors[i % 3])\n",
    "    \n",
    "    plt.xlabel(axes[0])\n",
    "    plt.ylabel(axes[1])\n",
    "\n",
    "    plt.legend(loc='lower right')\n",
    "    plt.show()"
   ]
  },
  {
   "cell_type": "markdown",
   "metadata": {},
   "source": [
    "### Experiments\n",
    "\n",
    "Now, that we have our inputs, models, and data representation functions ready, we can start running our experiments.\n",
    "\n",
    "#### KNN vs DT\n",
    "We start by comparing the accuracy of KNN vs DT on both data sets. We use default values `k = 1` and `max_depth = 8`."
   ]
  },
  {
   "cell_type": "code",
   "execution_count": 35,
   "metadata": {},
   "outputs": [
    {
     "name": "stdout",
     "output_type": "stream",
     "text": [
      "Hepatitis prediction was run 10 times on both KNN and DT:\n",
      "Average accuracy for KNN: 0.7842105263157895\n",
      "Average accuracy for DT: 0.8421052631578947\n",
      "\n",
      "Diabetes prediction was run 10 times on both KNN and DT:\n",
      "Average accuracy for KNN: 0.6222996515679443\n",
      "Average accuracy for DT: 0.5024390243902438\n"
     ]
    }
   ],
   "source": [
    "knn = KNN_Graph(1, euclidean_distance)\n",
    "dt = DecisionTree(8)\n",
    "\n",
    "# Run tests on hepatitis data set\n",
    "hepatitis_knn_accuracies = []\n",
    "hepatitis_dt_accuracies = []\n",
    "\n",
    "for i in range(10):\n",
    "    knn.fit(hepatitis_training, hepatitis_training[:, 0])\n",
    "    hepatitis_knn_predictions = knn.predict(hepatitis_testing[:, 1:])\n",
    "    hepatitis_knn_accuracies.append(evaluate_acc(hepatitis_testing[:, 0], hepatitis_knn_predictions))\n",
    "\n",
    "    dt.fit(hepatitis_training, hepatitis_training[:, 0])\n",
    "    hepatitis_dt_predictions = dt.predict(hepatitis_testing[:, 1:])\n",
    "    hepatitis_dt_accuracies.append(evaluate_acc(hepatitis_testing[:, 0], hepatitis_dt_predictions))\n",
    "\n",
    "    shuffle()\n",
    "\n",
    "hepatitis_knn_accuracies = np.array(hepatitis_knn_accuracies)\n",
    "hepatitis_dt_accuracies = np.array(hepatitis_dt_accuracies)\n",
    "\n",
    "print(f'Hepatitis prediction was run 10 times on both KNN and DT:')\n",
    "print(f'Average accuracy for KNN: {np.average(hepatitis_knn_accuracies)}')\n",
    "print(f'Average accuracy for DT: {np.average(hepatitis_dt_accuracies)}')\n",
    "\n",
    "\n",
    "# Run tests on diabetes data set\n",
    "diabetes_knn_accuracies = []\n",
    "diabetes_dt_accuracies = []\n",
    "\n",
    "for i in range(10):\n",
    "    knn.fit(diabetes_training, diabetes_training[:, 0])\n",
    "    diabetes_knn_predictions = knn.predict(diabetes_testing[:, 1:])\n",
    "    diabetes_knn_accuracies.append(evaluate_acc(diabetes_testing[:, 0], diabetes_knn_predictions))\n",
    "\n",
    "    dt.fit(diabetes_training, diabetes_training[:, 0])\n",
    "    diabetes_dt_predictions = dt.predict(diabetes_testing[:, 1:])\n",
    "    diabetes_dt_accuracies.append(evaluate_acc(diabetes_testing[:, 0], diabetes_dt_predictions))\n",
    "    \n",
    "    shuffle()\n",
    "\n",
    "diabetes_knn_accuracies = np.array(diabetes_knn_accuracies)\n",
    "diabetes_dt_accuracies = np.array(diabetes_dt_accuracies)\n",
    "\n",
    "print()\n",
    "print(f'Diabetes prediction was run 10 times on both KNN and DT:')\n",
    "print(f'Average accuracy for KNN: {np.average(diabetes_knn_accuracies)}')\n",
    "print(f'Average accuracy for DT: {np.average(diabetes_dt_accuracies)}')"
   ]
  },
  {
   "cell_type": "markdown",
   "metadata": {},
   "source": [
    "#### Different Values of K in KNN, and different cost functions\n",
    "\n",
    "Now, we are interested in seeing how changing the value of `K` can affect the prediction accuracy of KNN.\n",
    "\n",
    "We perform our test 20 times per value of `K` on the hepatitis data set, and plot the average results.\n",
    "\n",
    "We run this experiment for both two different distance functions: `euclidean_distance` and `manhattan_distance`."
   ]
  },
  {
   "cell_type": "code",
   "execution_count": 36,
   "metadata": {},
   "outputs": [
    {
     "data": {
      "image/png": "[encoded data removed]",
      "text/plain": [
       "<Figure size 640x480 with 1 Axes>"
      ]
     },
     "metadata": {},
     "output_type": "display_data"
    }
   ],
   "source": [
    "knn = KNN_Graph(1, euclidean_distance)\n",
    "knn.fit(hepatitis_training, hepatitis_training[:, 0])\n",
    "\n",
    "hepatitis_k_trials_euclidean = np.zeros(14)\n",
    "hepatitis_k_trials_manhattan = np.zeros(14)\n",
    "\n",
    "for i in range(20):\n",
    "    knn.dist_fn = euclidean_distance\n",
    "    hepatitis_k_trials_euclidean += knn.k_trial(hepatitis_validation[:, 1:], hepatitis_validation[:, 0], 15)\n",
    "    knn.dist_fn = manhattan_distance\n",
    "    hepatitis_k_trials_manhattan += knn.k_trial(hepatitis_validation[:, 1:], hepatitis_validation[:, 0], 15)\n",
    "    shuffle()\n",
    "\n",
    "hepatitis_k_trials_euclidean /= 20\n",
    "hepatitis_k_trials_manhattan /= 20\n",
    "\n",
    "plot(range(1, 15), [hepatitis_k_trials_euclidean, hepatitis_k_trials_manhattan], 'K', ['Euclidean accuracy', 'Manhattan accuracy'])"
   ]
  },
  {
   "cell_type": "markdown",
   "metadata": {},
   "source": [
    "#### Different values of maximum depth in DT\n",
    "\n",
    "Similarly, we are interested in seeing how changing the value of `max_depth` can affect the prediction accuracy of DT.\n",
    "\n",
    "We perform our test 20 times per value of `max_depth` on the hepatitis data set, and plot the average results.\n",
    "\n",
    "We perform this experiment for three different cost functions: `gini_index`, `misclass_rate`, and `entropy`."
   ]
  },
  {
   "cell_type": "code",
   "execution_count": 37,
   "metadata": {},
   "outputs": [
    {
     "data": {
      "image/png": "[encoded data removed]",
      "text/plain": [
       "<Figure size 640x480 with 1 Axes>"
      ]
     },
     "metadata": {},
     "output_type": "display_data"
    }
   ],
   "source": [
    "dt = DecisionTree(1)\n",
    "dt.fit(hepatitis_training, hepatitis_training[:, 0])\n",
    "\n",
    "hepatitis_max_depth_trials_gini = np.zeros(14)\n",
    "hepatitis_max_depth_trials_misclass = np.zeros(14)\n",
    "hepatitis_max_depth_trials_entropy = np.zeros(14)\n",
    "\n",
    "for i in range(20):\n",
    "    dt.cost_fn = gini_index\n",
    "    hepatitis_max_depth_trials_gini += dt.max_depth_trial(hepatitis_training[:, 1:], hepatitis_training[:, 0], hepatitis_validation[:, 1:], hepatitis_validation[:, 0], 15)\n",
    "    dt.cost_fn = misclass_rate\n",
    "    hepatitis_max_depth_trials_misclass += dt.max_depth_trial(hepatitis_training[:, 1:], hepatitis_training[:, 0], hepatitis_validation[:, 1:], hepatitis_validation[:, 0], 15)\n",
    "    dt.cost_fn = entropy\n",
    "    hepatitis_max_depth_trials_entropy += dt.max_depth_trial(hepatitis_training[:, 1:], hepatitis_training[:, 0], hepatitis_validation[:, 1:], hepatitis_validation[:, 0], 15)\n",
    "\n",
    "    shuffle()\n",
    "\n",
    "hepatitis_max_depth_trials_gini /= 20\n",
    "hepatitis_max_depth_trials_misclass /= 20\n",
    "hepatitis_max_depth_trials_entropy /= 20\n",
    "\n",
    "plot(range(1, 15), [hepatitis_max_depth_trials_gini, hepatitis_max_depth_trials_misclass, hepatitis_max_depth_trials_entropy], 'max_depth', ['Gini Index accuracy', 'Misclassification Rate accuracy', 'Entropy Accuracy'])"
   ]
  },
  {
   "cell_type": "markdown",
   "metadata": {},
   "source": [
    "#### Decision Boundaries\n",
    "\n",
    "We start by selecting the two most relevant features using cosine similarity."
   ]
  },
  {
   "cell_type": "code",
   "execution_count": 38,
   "metadata": {},
   "outputs": [
    {
     "name": "stdout",
     "output_type": "stream",
     "text": [
      "Decision boundaries for Diabetes using KNN\n"
     ]
    },
    {
     "data": {
      "image/png": "[encoded data removed]",
      "text/plain": [
       "<Figure size 640x480 with 1 Axes>"
      ]
     },
     "metadata": {},
     "output_type": "display_data"
    },
    {
     "name": "stdout",
     "output_type": "stream",
     "text": [
      "\n",
      "Decision boundaries for Diabetes using DT\n"
     ]
    },
    {
     "data": {
      "image/png": "[encoded data removed]",
      "text/plain": [
       "<Figure size 640x480 with 1 Axes>"
      ]
     },
     "metadata": {},
     "output_type": "display_data"
    }
   ],
   "source": [
    "diabetes_features_by_relevance = features_by_relevance(diabetes_clean_data[:, 1:], diabetes_clean_data[:, 0])\n",
    "diabetes_two_most_relevant_features = np.argsort(diabetes_features_by_relevance)[::-1][:2] + 1\n",
    "diabetes_two_most_relevant_features_names = np.take(diabetes_feature_names, diabetes_two_most_relevant_features)\n",
    "\n",
    "\n",
    "diabetes_two_most_relevant_features = np.insert(diabetes_two_most_relevant_features, 0, 0)\n",
    "\n",
    "diabetes_training_bound = np.take(diabetes_training, diabetes_two_most_relevant_features, axis=1)\n",
    "diabetes_testing_bound = np.take(diabetes_testing, diabetes_two_most_relevant_features, axis=1)\n",
    "diabetes_validation_bound = np.take(diabetes_validation, diabetes_two_most_relevant_features, axis=1)\n",
    "\n",
    "# Decision boundaries plot with KNN\n",
    "knn = KNN_Graph(3)\n",
    "knn.fit(diabetes_training_bound, diabetes_training_bound[:, 0])\n",
    "knn.validate_k(diabetes_validation_bound[:, 1:], diabetes_validation_bound[:, 0], 15)\n",
    "\n",
    "diabetes_predictions = knn.predict(diabetes_testing_bound[:, 1:])\n",
    "diabetes_has_dr = []\n",
    "diabetes_no_dr = []\n",
    "for i in range(len(diabetes_predictions)):\n",
    "    if(diabetes_predictions[i] == 0):\n",
    "        diabetes_no_dr.append(diabetes_testing_bound[i])\n",
    "    else:\n",
    "        diabetes_has_dr.append(diabetes_testing_bound[i])\n",
    "    \n",
    "diabetes_has_dr = np.array(diabetes_has_dr)\n",
    "diabetes_no_dr = np.array(diabetes_no_dr)\n",
    "\n",
    "print(\"Decision boundaries for Diabetes using KNN\")\n",
    "scatter([diabetes_no_dr[:, 1:], diabetes_has_dr[:, 1:]], ['DR Neg', 'DR Pos'], diabetes_two_most_relevant_features_names)\n",
    "\n",
    "\n",
    "# Decision boundaries plot with DT\n",
    "dt = DecisionTree(1)\n",
    "dt.fit(diabetes_training_bound[:, 1:], diabetes_training_bound[:, 0])\n",
    "dt.validate_depth(diabetes_training_bound[:, 1:], diabetes_training_bound[:, 0], diabetes_validation_bound[:, 1:], diabetes_validation_bound[:, 0], 15)\n",
    "\n",
    "diabetes_predictions = dt.predict(diabetes_testing_bound[:, 1:])\n",
    "diabetes_has_dr = []\n",
    "diabetes_no_dr = []\n",
    "for i in range(len(diabetes_predictions)):\n",
    "    if(diabetes_predictions[i] == 0):\n",
    "        diabetes_no_dr.append(diabetes_testing_bound[i])\n",
    "    else:\n",
    "        diabetes_has_dr.append(diabetes_testing_bound[i])\n",
    "    \n",
    "diabetes_has_dr = np.array(diabetes_has_dr)\n",
    "diabetes_no_dr = np.array(diabetes_no_dr)\n",
    "\n",
    "print()\n",
    "print(\"Decision boundaries for Diabetes using DT\")\n",
    "scatter([diabetes_no_dr[:, 1:], diabetes_has_dr[:, 1:]], ['DR Neg', 'DR Pos'], diabetes_two_most_relevant_features_names)\n"
   ]
  },
  {
   "cell_type": "markdown",
   "metadata": {},
   "source": [
    "#### Removing irrelevant features from dataset\n",
    "\n",
    "In order to improve our model, we created a method which removes the features of the dataset with the lowest cosine similarity to the label, and tested our models. In the following example we removed the 2 less correlated features."
   ]
  },
  {
   "cell_type": "code",
   "execution_count": 43,
   "metadata": {},
   "outputs": [
    {
     "name": "stdout",
     "output_type": "stream",
     "text": [
      "Tree depth: 3\n",
      "Diabetes Decision Tree accuracy with removal of 2 most irrelevant features: 0.7391304347826086\n",
      "Tree depth: 2\n",
      "Diabetes Decision Tree accuracy with removal of 4 most irrelevant features: 0.7536231884057971\n"
     ]
    }
   ],
   "source": [
    "true_labels = diabetes_clean_data[:, -1]\n",
    "processed_data = remove_irrelevant_features(diabetes_clean_data[:,:-1], true_labels, 2) \n",
    "\n",
    "dt_training_data = processed_data[:576, :]\n",
    "dt_training_labels = true_labels[:576]\n",
    "dt_validation_data = processed_data[576:806, :]\n",
    "dt_validation_labels = true_labels[576:806]\n",
    "dt_testing_data = processed_data[806:, :]\n",
    "dt_testing_labels = true_labels[806:]\n",
    "\n",
    "dt = DecisionTree()\n",
    "dt.validate_depth(dt_training_data, dt_training_labels, dt_validation_data, dt_validation_labels, 15)\n",
    "print(\"Tree depth: \" + str(dt.max_depth))\n",
    "\n",
    "dt.fit(dt_training_data, dt_training_labels)\n",
    "dt_predictions = dt.predict(dt_testing_data)\n",
    "dt_accuracy = evaluate_acc(dt_testing_labels , dt_predictions)\n",
    "print('Diabetes Decision Tree accuracy with removal of 2 most irrelevant features: ' + str(dt_accuracy))\n",
    "\n",
    "processed_data = remove_irrelevant_features(diabetes_clean_data[:,:-1], true_labels, 4) \n",
    "\n",
    "dt_training_data = processed_data[:576, :]\n",
    "dt_training_labels = true_labels[:576]\n",
    "dt_validation_data = processed_data[576:806, :]\n",
    "dt_validation_labels = true_labels[576:806]\n",
    "dt_testing_data = processed_data[806:, :]\n",
    "dt_testing_labels = true_labels[806:]\n",
    "\n",
    "dt = DecisionTree()\n",
    "dt.validate_depth(dt_training_data, dt_training_labels, dt_validation_data, dt_validation_labels, 15)\n",
    "print(\"Tree depth: \" + str(dt.max_depth))\n",
    "\n",
    "dt.fit(dt_training_data, dt_training_labels)\n",
    "dt_predictions = dt.predict(dt_testing_data)\n",
    "dt_accuracy = evaluate_acc(dt_testing_labels , dt_predictions)\n",
    "print('Diabetes Decision Tree accuracy with removal of 4 most irrelevant features: ' + str(dt_accuracy))"
   ]
  }
 ],
 "metadata": {
  "kernelspec": {
   "display_name": "Python 3.10.7 64-bit",
   "language": "python",
   "name": "python3"
  },
  "language_info": {
   "codemirror_mode": {
    "name": "ipython",
    "version": 3
   },
   "file_extension": ".py",
   "mimetype": "text/x-python",
   "name": "python",
   "nbconvert_exporter": "python",
   "pygments_lexer": "ipython3",
   "version": "3.10.7"
  },
  "orig_nbformat": 4,
  "vscode": {
   "interpreter": {
    "hash": "9fd0542caab7009b29092895c05fcefa6c380ab652e2ee84ac75102878337327"
   }
  }
 },
 "nbformat": 4,
 "nbformat_minor": 2
}
