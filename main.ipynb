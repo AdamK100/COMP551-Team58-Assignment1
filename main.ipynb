{
 "cells": [
  {
   "cell_type": "code",
   "execution_count": 13,
   "metadata": {},
   "outputs": [],
   "source": [
    "def is_clean(line):\n",
    "    for data_entry in line.split(\",\"):\n",
    "        if data_entry == \"?\":\n",
    "            return False\n",
    "    \n",
    "    return True"
   ]
  },
  {
   "cell_type": "code",
   "execution_count": 14,
   "metadata": {},
   "outputs": [],
   "source": [
    "hepatitis_data = open(\"./data/hepatitis.data\")\n",
    "\n",
    "hepatitis_clean_data = []\n",
    "\n",
    "for line in hepatitis_data.readlines():\n",
    "    if(is_clean(line)):\n",
    "        hepatitis_clean_data.append(line)\n",
    "\n",
    "\n",
    "diabetes_data = open(\"./data/messidor_features.arff\")\n",
    "\n",
    "diabetes_clean_data = []\n",
    "\n",
    "read = False\n",
    "for line in diabetes_data.readlines():\n",
    "    if(read):\n",
    "        diabetes_clean_data.append(line)\n",
    "    else:\n",
    "        read = line == \"@data\\n\"\n",
    "\n"
   ]
  },
  {
   "cell_type": "code",
   "execution_count": null,
   "metadata": {},
   "outputs": [],
   "source": [
    "class KNN_Graph:\n",
    "\n",
    "    def __init__(self, training_data):\n",
    "        self.training_data = training_data\n",
    "\n",
    "    def fit(self, k):\n",
    "        return\n",
    "    \n",
    "    def predict(self):\n",
    "        return"
   ]
  },
  {
   "cell_type": "code",
   "execution_count": null,
   "metadata": {},
   "outputs": [],
   "source": [
    "def evaluate_acc():\n",
    "    return"
   ]
  }
 ],
 "metadata": {
  "kernelspec": {
   "display_name": "Python 3.10.4 64-bit",
   "language": "python",
   "name": "python3"
  },
  "language_info": {
   "codemirror_mode": {
    "name": "ipython",
    "version": 3
   },
   "file_extension": ".py",
   "mimetype": "text/x-python",
   "name": "python",
   "nbconvert_exporter": "python",
   "pygments_lexer": "ipython3",
   "version": "3.10.4"
  },
  "orig_nbformat": 4,
  "vscode": {
   "interpreter": {
    "hash": "916dbcbb3f70747c44a77c7bcd40155683ae19c65e1c03b4aa3499c5328201f1"
   }
  }
 },
 "nbformat": 4,
 "nbformat_minor": 2
}
